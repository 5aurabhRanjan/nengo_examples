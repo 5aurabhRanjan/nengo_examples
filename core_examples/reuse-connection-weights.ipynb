{
 "cells": [
  {
   "cell_type": "markdown",
   "metadata": {},
   "source": [
    "This example shows how to reuse weights that have been learned with online learning for use in another networks. It assumes that you've already gone through and understood the [heteroassociative memory learning example](https://pythonhosted.org/nengo/examples/learn_associations.html)."
   ]
  },
  {
   "cell_type": "code",
   "execution_count": 1,
   "metadata": {
    "collapsed": true
   },
   "outputs": [],
   "source": [
    "copyright = \"Copyright (c) 2016 Applied Brain Research Inc.\"\n",
    "license = \"Creative Commons Zero (public domain) https://creativecommons.org/publicdomain/zero/1.0/\""
   ]
  },
  {
   "cell_type": "markdown",
   "metadata": {},
   "source": [
    "First create the network as shown in the aforementioned heteroassociative memory example."
   ]
  },
  {
   "cell_type": "code",
   "execution_count": 3,
   "metadata": {},
   "outputs": [],
   "source": [
    "import numpy as np\n",
    "\n",
    "import nengo\n",
    "\n",
    "num_items = 5\n",
    "\n",
    "d_key = 2\n",
    "d_value = 4\n",
    "SEED = 7\n",
    "\n",
    "rng = np.random.RandomState(seed=SEED)\n",
    "keys = nengo.dists.UniformHypersphere(surface=True).sample(num_items, d_key, rng=rng)\n",
    "values = nengo.dists.UniformHypersphere(surface=False).sample(num_items, d_value, rng=rng)\n",
    "\n",
    "intercept = (np.dot(keys, keys.T) - np.eye(num_items)).flatten().max()\n",
    "\n",
    "\n",
    "def cycle_array(x, period, dt=0.001):\n",
    "    \"\"\"Cycles through the elements\"\"\"\n",
    "    i_every = int(round(period/dt))\n",
    "    if i_every != period/dt:\n",
    "        raise ValueError(\"dt (%s) does not divide period (%s)\" % (dt, period))\n",
    "    def f(t):\n",
    "        i = int(round((t - dt) / dt))  # t starts at dt\n",
    "        idx = (i // i_every) % len(x)\n",
    "        return x[idx]\n",
    "    return f\n",
    "\n",
    "# Model constants\n",
    "n_neurons = 200\n",
    "dt = 0.001\n",
    "period = 0.3\n",
    "T = period * num_items\n",
    "sample_every = 0.01\n",
    "\n",
    "\n",
    "with nengo.Network() as train_model:\n",
    "    \n",
    "    # Create the inputs/outputs\n",
    "    stim_keys = nengo.Node(cycle_array(keys, period, dt))\n",
    "    stim_values = nengo.Node(cycle_array(values, period, dt))\n",
    "    # Turn learning permanently on\n",
    "    learning = nengo.Node([0])\n",
    "    recall = nengo.Node(size_in=d_value)\n",
    "    \n",
    "    # Create the memory with a seed, so we can create the same ensemble again\n",
    "    # in the new network\n",
    "    memory = nengo.Ensemble(n_neurons, d_key, intercepts=[intercept]*n_neurons,\n",
    "                           seed=SEED)\n",
    "    \n",
    "    # Learn the encoders/keys\n",
    "    voja = nengo.Voja(post_tau=None, learning_rate=5e-2)\n",
    "    conn_in = nengo.Connection(stim_keys, memory, synapse=None,\n",
    "                               learning_rule_type=voja)\n",
    "    nengo.Connection(learning, conn_in.learning_rule, synapse=None)\n",
    "    \n",
    "    # Learn the decoders/values, initialized to a null function\n",
    "    conn_out = nengo.Connection(memory, recall,\n",
    "                                learning_rule_type=nengo.PES(1e-3),\n",
    "                                function=lambda x: np.zeros(d_value))\n",
    "    \n",
    "    # Create the error population\n",
    "    error = nengo.Ensemble(n_neurons, d_value)\n",
    "    nengo.Connection(learning, error.neurons, transform=[[10.0]]*n_neurons,\n",
    "                     synapse=None)\n",
    "    \n",
    "    # Calculate the error and use it to drive the PES rule\n",
    "    nengo.Connection(stim_values, error, transform=-1, synapse=None)\n",
    "    nengo.Connection(recall, error, synapse=None)\n",
    "    nengo.Connection(error, conn_out.learning_rule)"
   ]
  },
  {
   "cell_type": "markdown",
   "metadata": {},
   "source": [
    "Instead of probing the usual outputs of the network, we're going to probe the weights so we can transfer them to our new network. We could still probe the input and outputs to verify the network is functioning, but for now, we're just going to assume it works."
   ]
  },
  {
   "cell_type": "code",
   "execution_count": 4,
   "metadata": {},
   "outputs": [],
   "source": [
    "with train_model:\n",
    "    # Setup probes to save the weights\n",
    "    p_dec = nengo.Probe(conn_out, 'weights', sample_every=sample_every)\n",
    "    # In future versions of Nengo, you should be able to probe the ensemble\n",
    "    # to get it's encoders, but for now we have to probe an attribute of\n",
    "    # the learning rule\n",
    "    p_enc = nengo.Probe(conn_in.learning_rule, 'scaled_encoders',\n",
    "                        sample_every=sample_every)"
   ]
  },
  {
   "cell_type": "code",
   "execution_count": 5,
   "metadata": {},
   "outputs": [
    {
     "name": "stdout",
     "output_type": "stream",
     "text": [
      "Building finished in 0:00:01.                                                                                                      \n",
      "Simulating finished in 0:00:01.                                                                                                    \n"
     ]
    }
   ],
   "source": [
    "# run the model and retrieve the encoders and decoders\n",
    "with nengo.Simulator(train_model, dt=dt) as train_sim:\n",
    "    train_sim.run(T)\n",
    "\n",
    "enc = train_sim.data[p_enc][-1]\n",
    "dec = train_sim.data[p_dec][-1]"
   ]
  },
  {
   "cell_type": "markdown",
   "metadata": {},
   "source": [
    "We'll now insert the encoders and decoders we gathered into our new network and verify that our network works the same as the old one. One important thing to note is that we `seed` parameter of the `memory` the same way as the last network to make sure we're dealing with the same neurons."
   ]
  },
  {
   "cell_type": "code",
   "execution_count": 6,
   "metadata": {
    "collapsed": true
   },
   "outputs": [],
   "source": [
    "with nengo.Network() as test_model:\n",
    "    \n",
    "    # Create the inputs/outputs\n",
    "    stim_keys = nengo.Node(cycle_array(keys, period, dt))\n",
    "    stim_values = nengo.Node(cycle_array(values, period, dt))\n",
    "    # Turn learning off to show that our network still works\n",
    "    learning = nengo.Node([-1])\n",
    "    recall = nengo.Node(size_in=d_value)\n",
    "\n",
    "    # Create the memory with zero eval points, since we're going to\n",
    "    # define the decoders later anyways\n",
    "    memory = nengo.Ensemble(n_neurons, d_key, intercepts=[intercept]*n_neurons,\n",
    "                            encoders=enc, n_eval_points=0, seed=SEED)\n",
    "    \n",
    "    # Learn the encoders/keys\n",
    "    voja = nengo.Voja(post_tau=None, learning_rate=5e-2)\n",
    "    conn_in = nengo.Connection(stim_keys, memory, synapse=None,\n",
    "                               learning_rule_type=voja)\n",
    "    nengo.Connection(learning, conn_in.learning_rule, synapse=None)\n",
    "    \n",
    "    # Learn the decoders/values, initialized to a null function\n",
    "    conn_out = nengo.Connection(memory.neurons, recall,\n",
    "                                learning_rule_type=nengo.PES(1e-3),\n",
    "                                transform=dec)\n",
    "    \n",
    "    # Create the error population\n",
    "    error = nengo.Ensemble(n_neurons, d_value)\n",
    "    nengo.Connection(learning, error.neurons, transform=[[10.0]]*n_neurons,\n",
    "                     synapse=None)\n",
    "    \n",
    "    # Calculate the error and use it to drive the PES rule\n",
    "    nengo.Connection(stim_values, error, transform=-1, synapse=None)\n",
    "    nengo.Connection(recall, error, synapse=None)\n",
    "    nengo.Connection(error, conn_out.learning_rule)\n",
    "    \n",
    "    # Setup probes\n",
    "    p_val = nengo.Probe(stim_values, synapse=0.005)\n",
    "    p_recall = nengo.Probe(recall, synapse=0.005)"
   ]
  },
  {
   "cell_type": "code",
   "execution_count": 12,
   "metadata": {},
   "outputs": [
    {
     "name": "stdout",
     "output_type": "stream",
     "text": [
      "Simulation finished in 0:00:02.                                                 \n"
     ]
    },
    {
     "data": {
      "image/png": "[encoded data removed]",
      "text/plain": [
       "<matplotlib.figure.Figure at 0x7f7c8690ec90>"
      ]
     },
     "metadata": {},
     "output_type": "display_data"
    },
    {
     "data": {
      "image/png": "[encoded data removed]",
      "text/plain": [
       "<matplotlib.figure.Figure at 0x7f7c81dca450>"
      ]
     },
     "metadata": {},
     "output_type": "display_data"
    }
   ],
   "source": [
    "# run the network and plot the results for verification\n",
    "with nengo.Simulator(test_model, dt=dt) as test_sim:\n",
    "    test_sim.run(T)\n",
    "\n",
    "import matplotlib.pyplot as plt\n",
    "%matplotlib inline\n",
    "\n",
    "plt.plot(test_sim.data[p_val])\n",
    "plt.figure()\n",
    "plt.plot(test_sim.data[p_recall])\n",
    "plt.show()"
   ]
  },
  {
   "cell_type": "markdown",
   "metadata": {},
   "source": [
    "The values output by our memory match our expected values. Our connection weight transfer worked!"
   ]
  }
 ],
 "metadata": {
  "kernelspec": {
   "display_name": "Python 3",
   "language": "python",
   "name": "python3"
  },
  "language_info": {
   "codemirror_mode": {
    "name": "ipython",
    "version": 3
   },
   "file_extension": ".py",
   "mimetype": "text/x-python",
   "name": "python",
   "nbconvert_exporter": "python",
   "pygments_lexer": "ipython3",
   "version": "3.5.2"
  }
 },
 "nbformat": 4,
 "nbformat_minor": 1
}
